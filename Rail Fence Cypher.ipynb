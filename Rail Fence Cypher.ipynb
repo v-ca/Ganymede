{
 "cells": [
  {
   "cell_type": "markdown",
   "metadata": {},
   "source": [
    "# Ganymede | *Rail Fence Cypher*"
   ]
  },
  {
   "cell_type": "markdown",
   "metadata": {},
   "source": [
    "## Introduction and how to use the notebook:\n",
    "<br>\n",
    "<center>*** <b>Important</b>: please make sure to run each block in order by pressing <i>run</i> or <i>control+enter</i> ***</center>\n",
    "\n",
    "#### This is an example of a Rail Fence cipher coded into Jupyter Notebooks.\n",
    "When you run the notebook you can choose the word or phrase you would like to \"encrypt\" and then the following cells display the encryption and decryption process."
   ]
  },
  {
   "cell_type": "markdown",
   "metadata": {},
   "source": [
    "#### Import packages:"
   ]
  },
  {
   "cell_type": "code",
   "execution_count": 4,
   "metadata": {},
   "outputs": [],
   "source": [
    "import numpy as np"
   ]
  },
  {
   "cell_type": "markdown",
   "metadata": {},
   "source": [
    "#### Encryption:"
   ]
  },
  {
   "cell_type": "code",
   "execution_count": 5,
   "metadata": {},
   "outputs": [],
   "source": [
    "def encrypt(plaintext, key):\n",
    "\n",
    "    matrix, encrypted, result = np.full((key, len(plaintext)), '_'), '', []\n",
    "    downshift, row, col = False, 0, 0\n",
    "    \n",
    "    for idx in np.arange(len(plaintext)):\n",
    "\n",
    "        if (row == 0) or (row == key - 1):\n",
    "            downshift = not downshift\n",
    "\n",
    "        matrix[row, col] = plaintext[idx]\n",
    "        col += 1\n",
    "\n",
    "        if downshift:\n",
    "            row += 1\n",
    "        else:\n",
    "            row -= 1\n",
    "\n",
    "    for idx in np.arange(key):\n",
    "        for jdx in np.arange(len(plaintext)):\n",
    "            if matrix[idx, jdx] != '\\n':\n",
    "                result.append(matrix[idx, jdx])\n",
    "    for _ in np.arange(len(result)):\n",
    "        if result[_] != '_':\n",
    "            encrypted += result[_]\n",
    "\n",
    "    return encrypted"
   ]
  },
  {
   "cell_type": "markdown",
   "metadata": {},
   "source": [
    "#### Decryption:"
   ]
  },
  {
   "cell_type": "code",
   "execution_count": 6,
   "metadata": {},
   "outputs": [],
   "source": [
    "def decrypt(cipher, key):\n",
    "\n",
    "    matrix, decrypted, result = np.full((key, len(cipher)), '_'), '', []\n",
    "    ndx, row, col, downshift = 0, 0, 0, None\n",
    "\n",
    "    for idx in np.arange(len(cipher)):\n",
    "        if row == 0:\n",
    "            downshift = True\n",
    "        if row == key - 1:\n",
    "            downshift = False\n",
    "\n",
    "        matrix[row, col] = '@'\n",
    "        col += 1\n",
    "\n",
    "        if downshift:\n",
    "            row += 1\n",
    "        else:\n",
    "            row -= 1\n",
    "\n",
    "    for idx in np.arange(key):\n",
    "        for jdx in np.arange(len(cipher)):\n",
    "            if ((matrix[idx, jdx] == '@') and\n",
    "                    (ndx < len(cipher))):\n",
    "                matrix[idx, jdx] = cipher[ndx]\n",
    "                ndx += 1\n",
    "\n",
    "    row, col = 0, 0\n",
    "    for idx in np.arange(len(cipher)):\n",
    "        if row == 0:\n",
    "            downshift = True\n",
    "        if row == key - 1:\n",
    "            downshift = False\n",
    "\n",
    "        if matrix[row, col] != '@':\n",
    "            result.append(matrix[row, col])\n",
    "            col += 1\n",
    "\n",
    "        if downshift:\n",
    "            row += 1\n",
    "        else:\n",
    "            row -= 1\n",
    "\n",
    "    decrypted += \"\".join(result)\n",
    "\n",
    "    return decrypted"
   ]
  },
  {
   "cell_type": "markdown",
   "metadata": {},
   "source": [
    "## Now let's see the Rail Fence Cipher in action:\n",
    "\n",
    "When you run the block below, try this example to see how it works:"
   ]
  },
  {
   "cell_type": "markdown",
   "metadata": {},
   "source": [
    ">**Choose a letter, word, or phrase**: Elementary my dear Watson\n",
    "\n",
    ">**Keyword**: 5\n",
    "\n",
    ">**Choose a letter, word, or phrase to decrypt**: 2 2rS1etBkr aetBe\n",
    "\n",
    ">**Keyword**: 6"
   ]
  },
  {
   "cell_type": "code",
   "execution_count": 8,
   "metadata": {},
   "outputs": [
    {
     "name": "stdout",
     "output_type": "stream",
     "text": [
      "Choose a letter, word, or phrase: Elementary my dear Watson\n",
      "Choose an key value less than 13: 5\n",
      "Eranlayeroet d smnm Wteya\n",
      "Elementary my dear Watson\n",
      "\n",
      "Enter encrypted text you want decrypted: 2 2rS1etBkr aetBe\n",
      "Choose the used key value: 6\n",
      "221B Baker Street\n"
     ]
    }
   ],
   "source": [
    "text = str(input('Choose a letter, word, or phrase: '))\n",
    "key_shift = int(input('Choose an key value less than '+str(int((len(text)/2)+1))+': '))\n",
    "\n",
    "while key_shift >= (int(len(text)/2)+1):\n",
    "    print('\\n'+'==== INVALID '+str(key_shift)+' is not less than '+str(int((len(text)/2)+1))+' ===='+'\\n'\n",
    "          +' The chosen value must be smaller than '+str(int((len(text)/2)+1))+'\\n'\n",
    "          +'=========================================')\n",
    "    key_shift = np.int(input('Choose an key value smaller than ' + str(int((len(text)/2)+1)) + ': '))\n",
    "\n",
    "print(encrypt(text, key_shift))\n",
    "print(decrypt(encrypt(text, key_shift), key_shift))\n",
    "\n",
    "# text: 'dgan ridkwuk c', key: 5\n",
    "\n",
    "decryption = str(input('\\nEnter encrypted text you want decrypted: '))\n",
    "decrypt_key = int(input('Choose the used key value: '))\n",
    "\n",
    "print(decrypt(decryption, decrypt_key))"
   ]
  }
 ],
 "metadata": {
  "kernelspec": {
   "display_name": "Python 3",
   "language": "python",
   "name": "python3"
  },
  "language_info": {
   "codemirror_mode": {
    "name": "ipython",
    "version": 3
   },
   "file_extension": ".py",
   "mimetype": "text/x-python",
   "name": "python",
   "nbconvert_exporter": "python",
   "pygments_lexer": "ipython3",
   "version": "3.7.3"
  }
 },
 "nbformat": 4,
 "nbformat_minor": 2
}
