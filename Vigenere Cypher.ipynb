{
 "cells": [
  {
   "cell_type": "markdown",
   "metadata": {},
   "source": [
    "# Ganymede | *Vigenère Cypher*"
   ]
  },
  {
   "cell_type": "markdown",
   "metadata": {},
   "source": [
    "## Introduction and how to use the notebook:\n",
    "<br>\n",
    "<center>*** <b>Important</b>: please make sure to run each block in order by pressing <i>run</i> or <i>control+enter</i> ***</center>\n",
    "\n",
    "#### This is an example of a Vigenère cipher coded into Jupyter Notebooks.\n",
    "When you run the notebook you can choose the word or phrase you would like to \"encrypt\" and then the following cells display the encryption and decryption process."
   ]
  },
  {
   "cell_type": "markdown",
   "metadata": {},
   "source": [
    "#### Import packages:"
   ]
  },
  {
   "cell_type": "code",
   "execution_count": 2,
   "metadata": {},
   "outputs": [],
   "source": [
    "import numpy as np"
   ]
  },
  {
   "cell_type": "markdown",
   "metadata": {},
   "source": [
    "#### Key generator:"
   ]
  },
  {
   "cell_type": "code",
   "execution_count": 3,
   "metadata": {},
   "outputs": [],
   "source": [
    "def key_generator(plaintext, key):\n",
    "    generated_key = []\n",
    "    for idx in np.arange(0, len(plaintext) - len(generated_key)):\n",
    "        generated_key.append(key[idx % len(key)])\n",
    "\n",
    "    return ''.join(generated_key)"
   ]
  },
  {
   "cell_type": "markdown",
   "metadata": {},
   "source": [
    "#### Encryption:"
   ]
  },
  {
   "cell_type": "code",
   "execution_count": 4,
   "metadata": {},
   "outputs": [],
   "source": [
    "def encrypt(plaintext, key):\n",
    "    encrypted = []\n",
    "    for idx in range(len(plaintext)):\n",
    "        char = (((ord(plaintext[idx]) + ord(key[idx])) % 26) + 65)\n",
    "        encrypted.append(chr(char))\n",
    "    return \"\".join(encrypted)"
   ]
  },
  {
   "cell_type": "markdown",
   "metadata": {},
   "source": [
    "#### Decryption:"
   ]
  },
  {
   "cell_type": "code",
   "execution_count": 5,
   "metadata": {},
   "outputs": [],
   "source": [
    "def decrypt(encrypted, key):\n",
    "    decrypted = []\n",
    "    for idx in range(len(encrypted)):\n",
    "        x = (((ord(encrypted[idx]) - ord(key[idx]) + 26) % 26) + 65)\n",
    "        decrypted.append(chr(x))\n",
    "    return \"\".join(decrypted).lower()"
   ]
  },
  {
   "cell_type": "markdown",
   "metadata": {},
   "source": [
    "## Now let's see the Vigenère Cipher in action:\n",
    "\n",
    "When you run the block below, try this example to see how it works:"
   ]
  },
  {
   "cell_type": "markdown",
   "metadata": {},
   "source": [
    ">**Choose a letter, word, or phrase**: Education never ends Watson\n",
    "\n",
    ">**Keyword**: 13"
   ]
  },
  {
   "cell_type": "code",
   "execution_count": 11,
   "metadata": {},
   "outputs": [
    {
     "name": "stdout",
     "output_type": "stream",
     "text": [
      "Choose a letter, word, or phrase: Education never ends Watson\n",
      "Choose a keyword or phrase: 13\n",
      "\n",
      "Encrypted Text : OPEOKFSAXZOHODOZNEGMDEYZ\n",
      "\n",
      "Decrypted Text: educationneverendswatson\n"
     ]
    }
   ],
   "source": [
    "string = str(input('Choose a letter, word, or phrase: ')).upper()\n",
    "keyword = str(input('Choose a keyword or phrase: ')).upper()\n",
    "for idx in np.arange(len(string)):\n",
    "    string = \"\".join(string.split())\n",
    "    keyword = \"\".join(keyword.split())\n",
    "\n",
    "key2 = key_generator(string, keyword)\n",
    "cipher = encrypt(string, key2)\n",
    "print('\\nEncrypted Text :', cipher)\n",
    "print('\\nDecrypted Text:', decrypt(cipher, key2))"
   ]
  }
 ],
 "metadata": {
  "kernelspec": {
   "display_name": "Python 3",
   "language": "python",
   "name": "python3"
  },
  "language_info": {
   "codemirror_mode": {
    "name": "ipython",
    "version": 3
   },
   "file_extension": ".py",
   "mimetype": "text/x-python",
   "name": "python",
   "nbconvert_exporter": "python",
   "pygments_lexer": "ipython3",
   "version": "3.7.3"
  }
 },
 "nbformat": 4,
 "nbformat_minor": 2
}
