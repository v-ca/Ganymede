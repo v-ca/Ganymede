{
 "cells": [
  {
   "cell_type": "markdown",
   "metadata": {},
   "source": [
    "# Ganymede | *Columnar Transposition Cypher*"
   ]
  },
  {
   "cell_type": "code",
   "execution_count": 4,
   "metadata": {},
   "outputs": [],
   "source": [
    "import numpy as np"
   ]
  },
  {
   "cell_type": "code",
   "execution_count": 5,
   "metadata": {},
   "outputs": [],
   "source": [
    "def encrypt(text, shift):\n",
    "    encrypt = \"\"\n",
    "\n",
    "    keyword, key_idx = sorted(list(shift)), 0\n",
    "    encoded = list(text)\n",
    "\n",
    "    row = np.int(np.ceil(float(len(text)) / len(shift)))\n",
    "\n",
    "    encoded.extend('_' * np.int((row * len(shift)) - float(len(text))))\n",
    "\n",
    "    matrix = [encoded[i: i + len(shift)]\n",
    "              for i in range(0, len(encoded), len(shift))]\n",
    "\n",
    "    for idx in range(len(shift)):\n",
    "        temp_idx = shift.index(keyword[key_idx])\n",
    "        encrypt += ''.join([row[temp_idx] for row in matrix])\n",
    "        key_idx += 1\n",
    "    \n",
    "    return encrypt"
   ]
  },
  {
   "cell_type": "code",
   "execution_count": 6,
   "metadata": {},
   "outputs": [],
   "source": [
    "def decrypt(encrypted_text, shift):\n",
    "\n",
    "    counter, key_idx = 0, 0\n",
    "    encoded, keyword, decrypted_text = list(encrypted_text), sorted(list(shift)), []\n",
    "\n",
    "    row = int(np.ceil(float(len(encrypted_text)) / len(shift)))\n",
    "\n",
    "    for idx in range(row):\n",
    "        decrypted_text += [['_'] * len(shift)]\n",
    "\n",
    "    for idx in range(len(shift)):\n",
    "        temp_idx = shift.index(keyword[key_idx])\n",
    "\n",
    "        for ndx in range(row):\n",
    "            decrypted_text[ndx][temp_idx] = encoded[counter]\n",
    "            counter += 1\n",
    "        key_idx += 1\n",
    "\n",
    "    decrypt = ''.join(sum(decrypted_text, []))\n",
    "\n",
    "    blanks = decrypt.count('_')\n",
    "\n",
    "    if blanks > 0:\n",
    "        return decrypt[: -blanks]\n",
    "\n",
    "    return decrypt"
   ]
  },
  {
   "cell_type": "code",
   "execution_count": 7,
   "metadata": {},
   "outputs": [
    {
     "name": "stdout",
     "output_type": "stream",
     "text": [
      "Choose a letter, word, or phrase: You know my methods\n",
      "Choose a keyword: Watson\n",
      "\n",
      "Encrypted Message: Yomsowe_n d_kyo_ mh_u t_\n",
      "Decrypted Message: You know my methods\n"
     ]
    }
   ],
   "source": [
    "plaintext = str(input('Choose a letter, word, or phrase: '))\n",
    "key_shift = str(input('Choose a keyword: '))\n",
    "\n",
    "letters = list(key_shift)\n",
    "no_repeats = set(letters)\n",
    "if len(letters) > len(no_repeats):\n",
    "    print('\\n'+'All repeating letters were removed from the keyword.')\n",
    "key_shift = list(dict.fromkeys(key_shift))\n",
    "\n",
    "\n",
    "encrypted = encrypt(plaintext, key_shift)\n",
    "decrypted = decrypt(encrypted, key_shift)\n",
    "\n",
    "print('\\n'+'Encrypted Message:', encrypted)\n",
    "print('Decrypted Message:', decrypted)"
   ]
  }
 ],
 "metadata": {
  "kernelspec": {
   "display_name": "Python 3",
   "language": "python",
   "name": "python3"
  },
  "language_info": {
   "codemirror_mode": {
    "name": "ipython",
    "version": 3
   },
   "file_extension": ".py",
   "mimetype": "text/x-python",
   "name": "python",
   "nbconvert_exporter": "python",
   "pygments_lexer": "ipython3",
   "version": "3.7.3"
  }
 },
 "nbformat": 4,
 "nbformat_minor": 2
}
