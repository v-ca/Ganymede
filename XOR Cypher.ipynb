{
 "cells": [
  {
   "cell_type": "markdown",
   "metadata": {},
   "source": [
    "# Ganymede | *XOR Cypher*"
   ]
  },
  {
   "cell_type": "code",
   "execution_count": 1,
   "metadata": {},
   "outputs": [],
   "source": [
    "def encryptDecrypt(plaintext, shift):\n",
    "\n",
    "    shift, text = '', ''\n",
    "\n",
    "    for idx in range(len(plaintext)):\n",
    "        text += (chr(ord(plaintext[idx]) ^ ord(key)))\n",
    "\n",
    "    return text"
   ]
  },
  {
   "cell_type": "code",
   "execution_count": 16,
   "metadata": {},
   "outputs": [
    {
     "name": "stdout",
     "output_type": "stream",
     "text": [
      "Choose a letter, word, or phrase: The Sign of Four\n",
      "Choose any single key value (ex. $): !\n",
      "\n",
      "Encrypted String: uID\u0001rHFO\u0001NG\u0001gNTS\n",
      "Decrypted String: The Sign of Four\n"
     ]
    }
   ],
   "source": [
    "plaintext = str(input('Choose a letter, word, or phrase: '))\n",
    "key = str(input('Choose any single key value (ex. $): '))\n",
    "\n",
    "while len(key) > 1:\n",
    "    print('The key has more than one character, try again.')\n",
    "    key = str(input('Choose only one single value (ex. $ or 5 or K): '))\n",
    "\n",
    "if 97 < ord(key) < 122:\n",
    "    key = key.upper()\n",
    "\n",
    "temp = encryptDecrypt(plaintext, key)\n",
    "\n",
    "print('\\n'+'Encrypted String:', temp)\n",
    "print('Decrypted String:', encryptDecrypt(temp, key))"
   ]
  },
  {
   "cell_type": "markdown",
   "metadata": {},
   "source": [
    "### <center>Try these examples:</center>\n",
    "\n",
    "<span float: left>\n",
    "    \n",
    "| Plaintext \\ Decrypted | Key | Encrypted\n",
    "|:-----:|:---:|:------:|\n",
    "The Hound of Baskerville | % | qM@\u0005mJPKA\u0005JC\u0005gDVN@WSLII@\n",
    "A Study in Scarlet | 5 | t\u0015fA@QL\u0015\\\\[\u0015fVTGYPA\n",
    "The Sign of the Four | ! | uID\u0001rHFO\u0001NG\u0001gNTS\n",
    "A Scandal in Bohemia | $ | e\u0004wGEJ@EH\u0004MJ\u0004fKLAIME\n",
    "The Final Problem | ; | oS^\u001b}RUZW\u001bkITYW^V\n",
    "\n",
    "</span>"
   ]
  },
  {
   "cell_type": "code",
   "execution_count": 20,
   "metadata": {},
   "outputs": [
    {
     "name": "stdout",
     "output_type": "stream",
     "text": [
      "Do you have something to decrypt? e\u0004wGEJ@EH\u0004MJ\u0004fKLAIME\n",
      "What was the character used? (ex. $): $\n",
      "\n",
      "Decrypted String: A Scandal in Bohemia\n"
     ]
    }
   ],
   "source": [
    "decrypt = str(input('Do you have something to decrypt? '))\n",
    "key = str(input('What was the character used? (ex. $): '))\n",
    "\n",
    "while len(key) > 1:\n",
    "    print('The key has more than one character, try again.'+'\\n')\n",
    "    key = str(input('Choose only one single value (ex. $ or 5 or K): '))\n",
    "    \n",
    "if 97 < ord(key) < 122:\n",
    "    key = key.upper()\n",
    "\n",
    "print('\\n'+'Decrypted String:', encryptDecrypt(decrypt, key))"
   ]
  }
 ],
 "metadata": {
  "kernelspec": {
   "display_name": "Python 3",
   "language": "python",
   "name": "python3"
  },
  "language_info": {
   "codemirror_mode": {
    "name": "ipython",
    "version": 3
   },
   "file_extension": ".py",
   "mimetype": "text/x-python",
   "name": "python",
   "nbconvert_exporter": "python",
   "pygments_lexer": "ipython3",
   "version": "3.7.3"
  }
 },
 "nbformat": 4,
 "nbformat_minor": 2
}
