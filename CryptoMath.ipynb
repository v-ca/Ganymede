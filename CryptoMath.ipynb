{
 "cells": [
  {
   "cell_type": "markdown",
   "metadata": {},
   "source": [
    "# Ganymede | *Cryptographic Mathematics*"
   ]
  },
  {
   "cell_type": "markdown",
   "metadata": {},
   "source": [
    "## Modular Arithmetic:"
   ]
  },
  {
   "cell_type": "markdown",
   "metadata": {},
   "source": [
    "### A brief explaination of modular arithmetic:\n",
    "\n",
    "Modular arithmetic may sound daunting, but - take a deep breath - it is actually quite simple; it is even one of the first things you learn as a child!\n",
    "\n",
    "To illustrate just how simple modular arithmetic is, let's take a look at an analog clock:\n",
    "\n",
    "<img src=\"http://pluspng.com/img-png/clock-png-clock-png-image-1478.png\" width=\"200\">\n",
    "\n",
    "If we count the hours starting at midnight (12:00am); we get 12:00am, 1:00am, 2:00am, ... , 10:00am, 11:00am, and when we reach 12:00 again the time \"switches\" from am to pm; then, the counting starts again; 12:00pm, 1:00pm, 2:00pm, and so forth. This illustrates the example of how we keep time $mod12$ - as opposed to US military time, which is kept in increments of $mod24$.\n",
    "\n",
    "**Example**: If our plane leaves at 8:00pm and will take 10 hours to reach its destination, what time will we arrive (note: do not need to take into account the possibility of timezone changes)?\n",
    "Answer: 6:00am - \n",
    "\n",
    "Modular arithmetic plays a central role at the heart of many cryptographic ciphers. When preforming addition and multiplication on the set of integers, $\\mathbb{Z}_{m}$, from 0 to m-1 and reducing each sum or product mod m is called ***modular arithmetic***.\n",
    "\n",
    "\\[$\\mathbb{Z}_{5}$ means mod5 \\]:<br>\n",
    "For example, in $\\mathbb{Z}_{5}$, $4+3=2$, $(4+3)mod5=2 \\rightarrow (7)mod5=2$; 5 goes into 7 one time with a remainder of 2.\n",
    "\n",
    "Generalizing the explaination, we can prove:\n",
    "\n",
    "Given d, d$\\neq$0, and a$\\geq$0, we compute numbers $q_{n}$ and $r_{n}$ such that satisfy $a=q_{n}d+r_{n}$; where $r_{n}\\geq 0$. $q_{n}$ is the ***provisional quotient*** and $r_{n}$ is the corresponding ***provisional remainder***.\n",
    "\n",
    "We define $q_{0}$=0 and $r_{0}$=a. Then, $a=q_{0}d+r = 0(d)+a$. Now, assuming $q_{n}$ and $r_{n}$ satisfies $a=q_{n}d+r_{n}$, we define $q_{n+1}$ and $r_{n+1}$:\n",
    "\n",
    "case 1: $0\\leq r_{n} < d$. In that case, $r_{n}$ is the remainder and $q_{n}$ is the quotient. There is no $q_{n+1}$ or $r_{n+1}$ in this case.<br>\n",
    "case 2: $r_{n}\\leq d$. In that case, $r_{n}$ is too large. So, we can move a $d$: $a=q_{n}d+r_{n}=(q_{n}+1)d+(r_{n}-d)$.\n",
    "\n",
    "Therefore, we define $q_{n+1}=q_{n}+1$ and $r_{n+1}=r_{n}-d$. Then, $a=q_{n+1}d+r_{n+1}$. Since $r_{n}\\geq d$, $r_{n+1}\\geq 0$. If a<0, then we need to *add* d to $r_{n}$ in each step and decrease $q_{n}$ by 1. Since the initial provisional remainder is negative, this operation is done while $r_{n}<0$. "
   ]
  },
  {
   "cell_type": "code",
   "execution_count": 1,
   "metadata": {},
   "outputs": [
    {
     "name": "stdout",
     "output_type": "stream",
     "text": [
      "Choose an integer: 5\n",
      "Modulo: 3\n",
      "\n",
      "5 (mod) 3 = 2\n"
     ]
    }
   ],
   "source": [
    "# ==== Modulo Calculator\n",
    "\"\"\" Calculates the remainder \"\"\"\n",
    "\n",
    "def mod(starting_value, quotient, divisor):\n",
    "    a, q, d = starting_value, quotient, divisor\n",
    "    r = a # Initially the remainder 'r' is equivalent to 'a'\n",
    "    if r >= 0:  # If our 'a' value is positive -\n",
    "        while r >= d:\n",
    "            q += 1 # provisional quotient\n",
    "            r -= d # provisional remainder\n",
    "    else: # If our 'a' value is negative\n",
    "        while r < 0:\n",
    "            q -= 1 # provisional quotient\n",
    "            r += d # provisional remainder\n",
    "    print('\\n'+str(a)+' (mod)',str(d)+\" = \"+str(r))\n",
    "    return \n",
    "\n",
    "a, q, d = int(input('Choose an integer: ')), 0, int(input('Modulo: ')) # This is our 'a', 'q_n', 'd' and 'r' values\n",
    "\n",
    "mod(a, q, d)"
   ]
  },
  {
   "cell_type": "markdown",
   "metadata": {},
   "source": [
    "## Extended Euclidean algorithm:"
   ]
  },
  {
   "cell_type": "markdown",
   "metadata": {},
   "source": [
    "Essentially, the Euclidean algorithm is the continuous application of the division algorithm for integers and is particularly useful when a and b are coprime. For example, if a and b are arbitrary non-negative integers, then there exist unique non-negative integers q and r such that:\n",
    "\n",
    "<center>$A = qb + r$; where $0 ≤ r < b$ and $a ̸= b$<\\center>\n",
    "    \n",
    "So, if we repeatedly divide the divisor by the remainder until the remainder reaches 0, the last non-zero remainder is the Greatest Common Divisor.\n",
    "\n",
    "As such, finding the $gcd(52, 28)$ using the Euclidean Algorithm:\n",
    "\n",
    "<center>$52 = 281+24 28 = 241 + 424 = 4 · 6 + 0$<\\center>\n",
    "\n",
    "Thus, the $gcd(52, 28) = 4$, and the linear representation, known as the Bézout’s identity, is\n",
    "\n",
    "<center>$52x + 28y = 0$; where $x = 7$ and $y = -13$.<\\center>"
   ]
  },
  {
   "cell_type": "code",
   "execution_count": null,
   "metadata": {},
   "outputs": [],
   "source": [
    "'''\n",
    "Extended Euclid's algorithm for determining the greatest common divisor for large numbers\n",
    "'''\n",
    "def egcd(a, b):\n",
    "    x, y, u, v = 0, 1, 1, 0\n",
    "    while a != 0:\n",
    "        q, r = b // a, b % a\n",
    "        m, n = x - u * q, y - v * q\n",
    "        b, a, x, y, u, v = a, r, u, v, m, n\n",
    "    gcd = b\n",
    "    return gcd, x, y"
   ]
  },
  {
   "cell_type": "markdown",
   "metadata": {},
   "source": [
    "## Modular Multiplicative Inverse:"
   ]
  },
  {
   "cell_type": "markdown",
   "metadata": {},
   "source": [
    "To find the modular multiplicative inverse, we\n",
    "simply need to reverse the steps of the Extended Euclidean Algorithm and\n",
    "recursively work backwards (Rosen, 2019).\n",
    "\n",
    "French mathematician Étienne Bézout's identity, known as Bézout's lemma,\n",
    "can be used to prove the existence of the modular multiplicative inverse\n",
    "used in the completion of the RSA cryptosystem (Rosen, 2019). The theorem states, for\n",
    "any arbitrary non-zero integers a and b, the greatest common divisor can\n",
    "be represented by $d = gcd(a, b)$. Then, there exists integers x and y,\n",
    "such that:\n",
    "\n",
    "<center>ax + by = d<\\center>\n",
    "\n",
    "<br />Thus, we can prove relatively prime integers, $gcd(a, b) = 1$ in the form\n",
    "$ax + by = 1$ for integers a, b, x, and y. In order to find the values for\n",
    "x and y, we can apply the Euclidean algorithm to calculate $gcd(a, b)$.\n",
    "For example, if we wish to find $gcd(2056, 511) = 1$, then:\n",
    "\n",
    "\n",
    "<center>\\(2056 = 511\\cdot4+12\\)<\\center>\n",
    "\n",
    "<center>\\(511 = 12\\cdot42+7\\)<\\center>\n",
    "\n",
    "<center>\\(12 = 7\\cdot1+5\\)<\\center>\n",
    "\n",
    "<center>\\(7 = 5\\cdot1+2\\)<\\center>\n",
    "\n",
    "<center>\\(5 = 2\\cdot2+1\\)<\\center>\n",
    "\n",
    "\n",
    "Using back substitution gives us:\n",
    "\n",
    "<center>$5{-}2\\cdot 2$<\\center>\n",
    "\n",
    "<center>$5 - (7 {-}5\\cdot 1)\\cdot 2$<\\center>\n",
    "\n",
    "<center>$5\\cdot 3 - 7\\cdot 2$<\\center>\n",
    "\n",
    "<center>$(12 - 7\\cdot 1)\\cdot 3 - 7\\cdot 2$<\\center>\n",
    "\n",
    "<center>$12\\cdot 3 - 7\\cdot 5$<\\center>\n",
    "\n",
    "<center>$12\\cdot 3 - (511 - 12\\cdot 42)\\cdot 5$<\\center>\n",
    "\n",
    "<center>$12\\cdot 213 - 511\\cdot 5$<\\center>\n",
    "\n",
    "<center>$(2056 - 511\\cdot 4)\\cdot 213 - 511\\cdot 5$<\\center>\n",
    "\n",
    "<center>$2056\\cdot 213 - 511\\cdot 857$<\\center>\n",
    "\n",
    "Therefore, a = 2056, b = 511, x = 213, y = -857.\n",
    "\n",
    "Accordingly, based on the previous example, we can prove that if a and b\n",
    "are integers such that $gcd(a, b) = 1$, then there exists a modular\n",
    "multiplicative inverse x such that $ax\\equiv 1$(mod b). So, since\n",
    "$gcd(2056, 511) = 1$, then:\n",
    "\n",
    "<center>\n",
    "\t$1 \\equiv 2056x + 511y\\equiv 2056x$(mod 511); where the modular\n",
    "multiplicative inverse is equal to 213.\n",
    "<\\center>\n",
    "\n",
    "<br />By definition, a multiplicative inverse exists if and only if a and b\n",
    "are relatively prime. In number theory, two integers a and b are said to\n",
    "be relatively prime or coprime if the only positive integer that divides\n",
    "both of them is 1 (Rosen, 2019). Consequently, any prime number that divides one does\n",
    "not divide the other; this principal is derived from the fundamental\n",
    "theorem of arithmetic -- otherwise known as the unique factorization\n",
    "theorem. From which, the theorem states that every integer greater than\n",
    "1 either is prime or is the product of a unique combination of prime\n",
    "numbers. This is then equivalent to their greatest common divisor being\n",
    "1."
   ]
  },
  {
   "cell_type": "code",
   "execution_count": null,
   "metadata": {},
   "outputs": [],
   "source": [
    "'''\n",
    "Finds the modular inverse -\n",
    "This is specifically used to find the decryption key: d = (phi*i + 1)/e\n",
    "'''\n",
    "def modinv(e, n):\n",
    "    gcd, x, y = egcd(e, n)\n",
    "    if gcd != 1:\n",
    "        return None  # The modular inverse does not exist in this case\n",
    "    else:\n",
    "        return x % n"
   ]
  },
  {
   "cell_type": "markdown",
   "metadata": {},
   "source": [
    "## Euler's Totient Function $\\phi (n)$:"
   ]
  },
  {
   "cell_type": "markdown",
   "metadata": {},
   "source": [
    "One of the last operations used in developing the RSA encryption is\n",
    "Euler's totient function. The function counts the total number of\n",
    "non-negative integers up to a given integer n that are relatively prime,\n",
    "or coprime, to $n$. Generally, the function is denoted using $\\phi (n)$ --\n",
    "colloquially called Euler's phi function. This function is specifically\n",
    "used to compute the decryption key value (Rosen, 2019).\n",
    "\n",
    "Calculating $\\phi (n) = (p-1)(q-1)$, such that $n-\\phi (n) + 1 = p + q$. For\n",
    "example, to calculate $\\phi (52)$ using a pencil-and-paper technique, we\n",
    "first use the fundamental theorem of arithmetic to factor 52 into 13\n",
    "$\\cdot 2\\cdot 2 = 13^{1}\\cdot 2^{2}$. We can then list\n",
    "out all the integers between 1 and 52, removing the integers whose\n",
    "unique prime factorization includes either a 2 or 13. This will leave a\n",
    "set containing the values $\\{ 1, 3, 5, 7, 9, 11, 15, 17, 19, 21, 23, 25,\n",
    "27, 29, 31, 33, 35, 37, 41, 43, 45, 47, 49, 51 \\}$. Thus, $\\phi (52) = 24$.\n",
    "\n",
    "Overall, the strength of the encryption depends on both keeping the\n",
    "$\\phi (n)$ value secret and sufficiently large enough to make\n",
    "factorization and solving the discrete logarithm problem impractical.\n",
    "Currently, that means that the key value should be typically between\n",
    "1024 to 2048-bits long. This translates into prime integers of length\n",
    "309 to 617-digits. However, ideally, the key value will be between 2048\n",
    "and 4096-bits long -- or 617 to 1234-digits."
   ]
  },
  {
   "cell_type": "code",
   "execution_count": null,
   "metadata": {},
   "outputs": [],
   "source": [
    "'''\n",
    "Finds the modulus value\n",
    "'''\n",
    "def find_modulus(p, q):\n",
    "    mod_n = (p-1)*(q-1)\n",
    "    return mod_n"
   ]
  },
  {
   "cell_type": "markdown",
   "metadata": {},
   "source": [
    "## Primality Test:"
   ]
  },
  {
   "cell_type": "markdown",
   "metadata": {},
   "source": [
    "Tests whether or not a number is prime. However, these code blocks only work for integers less than 200. Otherwise, you may experience processing hang."
   ]
  },
  {
   "cell_type": "code",
   "execution_count": null,
   "metadata": {},
   "outputs": [],
   "source": [
    "'''\n",
    "Primality test: Tests values to determine if they are prime or not\n",
    "Sieve of Eratosthenes: When non-prime, this will give all prime values less than the non-prime\n",
    "'''\n",
    "# For more information on primes see http://primes.utm.edu/\n",
    "# The Prime Pages - maintained by Professor Chris Caldwell\n",
    "def isPrime(n):\n",
    "    if n <= 1e100:\n",
    "        if (n <= 1):\n",
    "            return False\n",
    "        if (n <= 3):\n",
    "            return True\n",
    "        if (n % 2 == 0 or n % 3 == 0):\n",
    "\n",
    "            return False\n",
    "        i = 3\n",
    "        while (i*i <= n):\n",
    "            if (n % i == 0 or n % (i + 2) == 0):\n",
    "                return False\n",
    "            i += 1\n",
    "        return True\n",
    "    else:\n",
    "        print('WARNING: May not be prime.')\n",
    "        return True\n",
    "    \n",
    "def sieveOfEratosthenes(n):\n",
    "    if n > 200:\n",
    "        n = 200\n",
    "    if 0 < n <= 200:\n",
    "        list = [True for i in range(n + 1)]\n",
    "        p, templist, primelist = 2, [], []\n",
    "        while pow(p, p) <= n:\n",
    "\n",
    "            # If list[p] is not changed, then it is a prime\n",
    "            if list[p] == True:\n",
    "\n",
    "                # Update all multiples of p\n",
    "                for i in range(p * 2, n + 1, p):\n",
    "                    list[i] = False\n",
    "                    if list[i] % p == 0:\n",
    "                        list[i] = False\n",
    "\n",
    "                p += 1\n",
    "        list[0] = False\n",
    "        list[1] = False\n",
    "\n",
    "        # Print all prime numbers\n",
    "        for idx in range(n-1):\n",
    "            if list[idx] == True:\n",
    "                templist += [idx]\n",
    "        for idx in templist:\n",
    "            if isPrime(idx) == True and idx > 30:\n",
    "                primelist += [str(idx),' ']\n",
    "\n",
    "    return ''.join(primelist)"
   ]
  }
 ],
 "metadata": {
  "kernelspec": {
   "display_name": "Python 3",
   "language": "python",
   "name": "python3"
  },
  "language_info": {
   "codemirror_mode": {
    "name": "ipython",
    "version": 3
   },
   "file_extension": ".py",
   "mimetype": "text/x-python",
   "name": "python",
   "nbconvert_exporter": "python",
   "pygments_lexer": "ipython3",
   "version": "3.7.3"
  }
 },
 "nbformat": 4,
 "nbformat_minor": 4
}
