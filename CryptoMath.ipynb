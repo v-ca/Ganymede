{
 "cells": [
  {
   "cell_type": "markdown",
   "metadata": {},
   "source": [
    "# Ganymede | *Cryptographic Mathematics*"
   ]
  },
  {
   "cell_type": "markdown",
   "metadata": {},
   "source": [
    "## Modular Arithmetic:"
   ]
  },
  {
   "cell_type": "markdown",
   "metadata": {},
   "source": [
    "### A brief explaination of modular arithmetic:\n",
    "\n",
    "Modular arithmetic may sound daunting, but - take a deep breath - it is actually quite simple; it is even one of the first things you learn as a child!\n",
    "\n",
    "To illustrate just how simple modular arithmetic is, let's take a look at an analog clock:\n",
    "\n",
    "<img src=\"http://pluspng.com/img-png/clock-png-clock-png-image-1478.png\" width=\"200\">\n",
    "\n",
    "If we count the hours starting at midnight (12:00am); we get 12:00am, 1:00am, 2:00am, ... , 10:00am, 11:00am, and when we reach 12:00 again the time \"switches\" from am to pm; then, the counting starts again; 12:00pm, 1:00pm, 2:00pm, and so forth. This illustrates the example of how we keep time $mod12$ - as opposed to US military time, which is kept in increments of $mod24$.\n",
    "\n",
    "**Example**: If our plane leaves at 8:00pm and will take 10 hours to reach its destination, what time will we arrive (note: do not need to take into account the possibility of timezone changes)?\n",
    "Answer: 6:00am - \n",
    "\n",
    "Modular arithmetic plays a central role at the heart of many cryptographic ciphers. When preforming addition and multiplication on the set of integers, $\\mathbb{Z}_{m}$, from 0 to m-1 and reducing each sum or product mod m is called ***modular arithmetic***.\n",
    "\n",
    "\\[$\\mathbb{Z}_{5}$ means mod5 \\]:<br>\n",
    "For example, in $\\mathbb{Z}_{5}$, $4+3=2$, $(4+3)mod5=2 \\rightarrow (7)mod5=2$; 5 goes into 7 one time with a remainder of 2.\n",
    "\n",
    "Generalizing the explaination, we can prove:\n",
    "\n",
    "Given d, d$\\neq$0, and a$\\geq$0, we compute numbers $q_{n}$ and $r_{n}$ such that satisfy $a=q_{n}d+r_{n}$; where $r_{n}\\geq 0$. $q_{n}$ is the ***provisional quotient*** and $r_{n}$ is the corresponding ***provisional remainder***.\n",
    "\n",
    "We define $q_{0}$=0 and $r_{0}$=a. Then, $a=q_{0}d+r = 0(d)+a$. Now, assuming $q_{n}$ and $r_{n}$ satisfies $a=q_{n}d+r_{n}$, we define $q_{n+1}$ and $r_{n+1}$:\n",
    "\n",
    "case 1: $0\\leq r_{n} < d$. In that case, $r_{n}$ is the remainder and $q_{n}$ is the quotient. There is no $q_{n+1}$ or $r_{n+1}$ in this case.<br>\n",
    "case 2: $r_{n}\\leq d$. In that case, $r_{n}$ is too large. So, we can move a $d$: $a=q_{n}d+r_{n}=(q_{n}+1)d+(r_{n}-d)$.\n",
    "\n",
    "Therefore, we define $q_{n+1}=q_{n}+1$ and $r_{n+1}=r_{n}-d$. Then, $a=q_{n+1}d+r_{n+1}$. Since $r_{n}\\geq d$, $r_{n+1}\\geq 0$. If a<0, then we need to *add* d to $r_{n}$ in each step and decrease $q_{n}$ by 1. Since the initial provisional remainder is negative, this operation is done while $r_{n}<0$. "
   ]
  },
  {
   "cell_type": "code",
   "execution_count": 1,
   "metadata": {},
   "outputs": [
    {
     "name": "stdout",
     "output_type": "stream",
     "text": [
      "Choose an integer: 5\n",
      "Modulo: 3\n",
      "\n",
      "5 (mod) 3 = 2\n"
     ]
    }
   ],
   "source": [
    "# ==== Modulo Calculator\n",
    "\"\"\" Calculates the remainder \"\"\"\n",
    "\n",
    "def mod(starting_value, quotient, divisor):\n",
    "    a, q, d = starting_value, quotient, divisor\n",
    "    r = a # Initially the remainder 'r' is equivalent to 'a'\n",
    "    if r >= 0:  # If our 'a' value is positive -\n",
    "        while r >= d:\n",
    "            q += 1 # provisional quotient\n",
    "            r -= d # provisional remainder\n",
    "    else: # If our 'a' value is negative\n",
    "        while r < 0:\n",
    "            q -= 1 # provisional quotient\n",
    "            r += d # provisional remainder\n",
    "    print('\\n'+str(a)+' (mod)',str(d)+\" = \"+str(r))\n",
    "    return \n",
    "\n",
    "a, q, d = int(input('Choose an integer: ')), 0, int(input('Modulo: ')) # This is our 'a', 'q_n', 'd' and 'r' values\n",
    "\n",
    "mod(a, q, d)"
   ]
  },
  {
   "cell_type": "markdown",
   "metadata": {},
   "source": [
    "This is the %timeit loop algorithm used for determining the speed of various funtions and calls:"
   ]
  },
  {
   "cell_type": "code",
   "execution_count": null,
   "metadata": {},
   "outputs": [],
   "source": [
    "# test, itr = [], 100\n",
    "# for idx in np.arange(itr):\n",
    "#     time = %timeit -o encrypt('This is a test', 'timed')\n",
    "#     test += time.timings\n",
    "\n",
    "# print('This is the best time:', time.best)\n",
    "\n",
    "# test = [test[idx:idx+7] for idx in np.arange(itr)]\n",
    "# np.savetxt('Columnar_en-analysis.txt',test)\n",
    "\n",
    "# test, itr = [], 100\n",
    "# for idx in np.arange(itr):\n",
    "#     time = %timeit -o decrypt(encrypt('This is a test', 'timed'), 'timed')\n",
    "#     test += time.timings\n",
    "\n",
    "# print('This is the best time:', time.best)\n",
    "\n",
    "# test = [test[idx:idx+7] for idx in np.arange(itr)]\n",
    "# np.savetxt('Columnar_de-analysis.txt',test)"
   ]
  },
  {
   "cell_type": "markdown",
   "metadata": {},
   "source": [
    "Convert to .csv file:"
   ]
  },
  {
   "cell_type": "code",
   "execution_count": null,
   "metadata": {},
   "outputs": [],
   "source": [
    "# res=np.loadtxt('Multi_en-analysis.txt')\n",
    "# df=pd.DataFrame(data=res,columns=['Test 1','Test 2','Test 3','Test 4','Test 5','Test 6','Test 7'])\n",
    "# df.to_csv('Multi_en-data.csv')\n",
    "# res=np.loadtxt('Multi_de-analysis.txt')\n",
    "# df=pd.DataFrame(data=res,columns=['Test 1','Test 2','Test 3','Test 4','Test 5','Test 6','Test 7'])\n",
    "# df.to_csv('Multi_de-data.csv')"
   ]
  },
  {
   "cell_type": "code",
   "execution_count": null,
   "metadata": {},
   "outputs": [],
   "source": [
    "text = 'Lorem'\n",
    "\n",
    "with open(\"Atbash-word_plaintext.txt\", \"w\") as f:\n",
    "    f.write(text)\n",
    "with open(\"Atbash-word_encrypted.txt\", \"w\") as f:\n",
    "    f.write(encrypt(text))\n",
    "with open(\"Atbash-word_decrypted.txt\", \"w\") as f:\n",
    "    f.write(decrypt(encrypt(text)))\n",
    "\n",
    "text2 = 'Lorem ipsum dolor sit amet.'\n",
    "\n",
    "with open(\"Atbash-phrase_plaintext.txt\", \"w\") as f:\n",
    "    f.write(text2)\n",
    "with open(\"Atbash-phrase_encrypted.txt\", \"w\") as f:\n",
    "    f.write(encrypt(text2))\n",
    "with open(\"Atbash-phrase_decrypted.txt\", \"w\") as f:\n",
    "    f.write(decrypt(encrypt(text2)))\n",
    "\n",
    "text3 = 'Lorem ipsum dolor sit amet, consectetur adipiscing elit. Aenean dictum, tortor sed pretium dignissim, diam arcu hendrerit urna, at aliquet felis orci eu sem. Phasellus sed facilisis metus. Duis at accumsan nibh. Vestibulum efficitur quam libero, eget molestie neque ullamcorper sed. Etiam quis facilisis nulla, eget consequat ex. Donec eu eleifend velit. Vestibulum a pellentesque nisi, et malesuada dolor.'\n",
    "\n",
    "with open(\"Atbash-paragraph_plaintext.txt\", \"w\") as f:\n",
    "    f.write(text3)\n",
    "with open(\"Atbash-paragraph_encrypted.txt\", \"w\") as f:\n",
    "    f.write(encrypt(text3))\n",
    "with open(\"Atbash-paragraph_decrypted.txt\", \"w\") as f:\n",
    "    f.write(decrypt(encrypt(text3)))"
   ]
  },
  {
   "cell_type": "code",
   "execution_count": null,
   "metadata": {},
   "outputs": [],
   "source": [
    "'''\n",
    "Analyses the generated file sizes in states prior to encryption, after encryption, \n",
    "and after decryption for various classical additive, mono-and-polyalphabetic, and \n",
    "transpositional ciphers.\n",
    "'''\n",
    "path = str(os.getcwd())+'/SpaceAnalysis/'\n",
    "\n",
    "# Atbash:\n",
    "Atbash = [os.stat(path+'Atbash_plaintext.txt').st_size, os.stat(path+'Atbash_encrypted.txt').st_size, os.stat(path+'Atbash_decrypted.txt').st_size]\n",
    "# Caesar:\n",
    "Caesar = [os.stat(path+'Caesar_plaintext.txt').st_size, os.stat(path+'Caesar_encrypted.txt').st_size, os.stat(path+'Caesar_decrypted.txt').st_size]\n",
    "# Multiplicative:\n",
    "Multi = [os.stat(path+'Multi_plaintext.txt').st_size, os.stat(path+'Multi_encrypted.txt').st_size, os.stat(path+'Multi_decrypted.txt').st_size]\n",
    "# Affine:\n",
    "Affine = [os.stat(path+'Affine_plaintext.txt').st_size, os.stat(path+'Affine_encrypted.txt').st_size, os.stat(path+'Affine_decrypted.txt').st_size]\n",
    "\n",
    "Space = list(zip(Atbash, Caesar, Multi, Affine))\n",
    "\n",
    "print(Space)\n",
    "\n",
    "df=pd.DataFrame(data = Space, columns=['Base Freq (%)', 'Encrypted Freq (%)', 'what'])\n",
    "df.index = letter\n",
    "df.plot.bar(colormap='Accent', title='Relative Frequency of Use (bar)', fontsize=12, \n",
    "            figsize=[14,4], grid=False)\n",
    "plt.tight_layout()\n",
    "plt.show()"
   ]
  },
  {
   "cell_type": "code",
   "execution_count": 5,
   "metadata": {},
   "outputs": [
    {
     "data": {
      "text/plain": [
       "'/Users/vcal/Desktop/Gan'"
      ]
     },
     "execution_count": 5,
     "metadata": {},
     "output_type": "execute_result"
    }
   ],
   "source": [
    "import os\n",
    "os.getcwd()"
   ]
  },
  {
   "cell_type": "code",
   "execution_count": null,
   "metadata": {},
   "outputs": [],
   "source": [
    "# test, itr = [], 100\n",
    "# for idx in np.arange(itr):\n",
    "#     time = %timeit -o with open(\"Affine-word_plaintext.txt\", \"w\") as f: f.write(text3)\n",
    "#     test += time.timings\n",
    "\n",
    "# print('This is the best time:', time.best)\n",
    "\n",
    "# test = [test[idx:idx+7] for idx in np.arange(itr)]\n",
    "# np.savetxt('Affine_space-analysis.txt',test)\n",
    "\n",
    "# res=np.loadtxt('Affine_space-analysis.txt')\n",
    "# df=pd.DataFrame(data=res,columns=['Test 1', 'Test 2', 'Test 3', 'Test 4', 'Test 5', 'Test 6', 'Test 7'])\n",
    "# df.to_csv('Affine_space-data.csv')"
   ]
  },
  {
   "cell_type": "code",
   "execution_count": null,
   "metadata": {},
   "outputs": [],
   "source": [
    "text = 'Lorem'\n",
    "\n",
    "with open(\"Atbash-word_plaintext.txt\", \"w\") as f:\n",
    "    f.write(text)\n",
    "with open(\"Atbash-word_encrypted.txt\", \"w\") as f:\n",
    "    f.write(encrypt(text))\n",
    "with open(\"Atbash-word_decrypted.txt\", \"w\") as f:\n",
    "    f.write(decrypt(encrypt(text)))\n",
    "\n",
    "text2 = 'Lorem ipsum dolor sit amet.'\n",
    "\n",
    "with open(\"Atbash-phrase_plaintext.txt\", \"w\") as f:\n",
    "    f.write(text2)\n",
    "with open(\"Atbash-phrase_encrypted.txt\", \"w\") as f:\n",
    "    f.write(encrypt(text2))\n",
    "with open(\"Atbash-phrase_decrypted.txt\", \"w\") as f:\n",
    "    f.write(decrypt(encrypt(text2)))\n",
    "\n",
    "text3 = 'Lorem ipsum dolor sit amet, consectetur adipiscing elit. Aenean dictum, tortor sed pretium dignissim, diam arcu hendrerit urna, at aliquet felis orci eu sem. Phasellus sed facilisis metus. Duis at accumsan nibh. Vestibulum efficitur quam libero, eget molestie neque ullamcorper sed. Etiam quis facilisis nulla, eget consequat ex. Donec eu eleifend velit. Vestibulum a pellentesque nisi, et malesuada dolor.'\n",
    "\n",
    "with open(\"Atbash-paragraph_plaintext.txt\", \"w\") as f:\n",
    "    f.write(text3)\n",
    "with open(\"Atbash-paragraph_encrypted.txt\", \"w\") as f:\n",
    "    f.write(encrypt(text3))\n",
    "with open(\"Atbash-paragraph_decrypted.txt\", \"w\") as f:\n",
    "    f.write(decrypt(encrypt(text3)))"
   ]
  }
 ],
 "metadata": {
  "kernelspec": {
   "display_name": "Python 3",
   "language": "python",
   "name": "python3"
  },
  "language_info": {
   "codemirror_mode": {
    "name": "ipython",
    "version": 3
   },
   "file_extension": ".py",
   "mimetype": "text/x-python",
   "name": "python",
   "nbconvert_exporter": "python",
   "pygments_lexer": "ipython3",
   "version": "3.7.3"
  }
 },
 "nbformat": 4,
 "nbformat_minor": 2
}
